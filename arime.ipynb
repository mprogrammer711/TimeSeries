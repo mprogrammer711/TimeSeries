{
 "cells": [
  {
   "cell_type": "code",
   "execution_count": null,
   "metadata": {
    "vscode": {
     "languageId": "plaintext"
    }
   },
   "outputs": [],
   "source": [
    "import pandas as pd\n",
    "from statsmodels.tsa.arima.model import ARIMA\n",
    "import matplotlib.pyplot as plt\n",
    "\n",
    "# Load time series data\n",
    "data = pd.read_csv('time_series_data.csv', index_col='date', parse_dates=True)\n",
    "time_series = data['value']\n",
    "\n",
    "# Fit ARIMA model\n",
    "model = ARIMA(time_series, order=(5, 1, 0))\n",
    "model_fit = model.fit()\n",
    "\n",
    "# Make predictions\n",
    "forecast = model_fit.forecast(steps=10)\n",
    "\n",
    "# Plot the results\n",
    "plt.figure(figsize=(10, 6))\n",
    "plt.plot(time_series, label='Original Time Series')\n",
    "plt.plot(forecast, label='Forecast', color='red')\n",
    "plt.legend()\n",
    "plt.show()"
   ]
  },
  {
   "cell_type": "code",
   "execution_count": null,
   "metadata": {
    "vscode": {
     "languageId": "plaintext"
    }
   },
   "outputs": [],
   "source": [
    "import pandas as pd\n",
    "import matplotlib.pyplot as plt\n",
    "from statsmodels.tsa.seasonal import STL\n",
    "\n",
    "# Load time series data\n",
    "data = pd.read_csv('time_series_data.csv', index_col='date', parse_dates=True)\n",
    "time_series = data['value']\n",
    "\n",
    "# Apply STL decomposition\n",
    "stl = STL(time_series, seasonal=13)\n",
    "result = stl.fit()\n",
    "\n",
    "# Plot the results\n",
    "plt.figure(figsize=(10, 8))\n",
    "plt.subplot(4, 1, 1)\n",
    "plt.plot(result.observed)\n",
    "plt.title('Observed')\n",
    "plt.subplot(4, 1, 2)\n",
    "plt.plot(result.trend)\n",
    "plt.title('Trend')\n",
    "plt.subplot(4, 1, 3)\n",
    "plt.plot(result.seasonal)\n",
    "plt.title('Seasonal')\n",
    "plt.subplot(4, 1, 4)\n",
    "plt.plot(result.resid)\n",
    "plt.title('Residual')\n",
    "plt.tight_layout()\n",
    "plt.show()"
   ]
  }
 ],
 "metadata": {
  "language_info": {
   "name": "python"
  }
 },
 "nbformat": 4,
 "nbformat_minor": 2
}
