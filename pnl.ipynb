{
 "cells": [
  {
   "cell_type": "code",
   "execution_count": null,
   "metadata": {},
   "outputs": [],
   "source": [
    "import pandas as pd\n",
    "import os\n",
    "\n",
    "# Define the directory containing the files\n",
    "directory = 'forecast_files'\n",
    "\n",
    "# Initialize a dictionary to store the PNL for each instrument\n",
    "pnl_dict = {}\n",
    "\n",
    "# Iterate over the files in the directory\n",
    "for filename in os.listdir(directory):\n",
    "    if filename.endswith('.csv'):\n",
    "        # Load the file\n",
    "        file_path = os.path.join(directory, filename)\n",
    "        df = pd.read_csv(file_path)\n",
    "        \n",
    "        # Extract the forecast and real data columns\n",
    "        forecast = df.iloc[:, 0]  # Assuming the first column is the forecast\n",
    "        real_data = df.iloc[:, 3]  # Assuming the fourth column is the real data\n",
    "        \n",
    "        # Calculate the PNL for each instrument\n",
    "        pnl = real_data - forecast\n",
    "        \n",
    "        # Aggregate the PNL for each instrument\n",
    "        for instrument, pnl_value in pnl.items():\n",
    "            if instrument not in pnl_dict:\n",
    "                pnl_dict[instrument] = 0\n",
    "            pnl_dict[instrument] += pnl_value\n",
    "\n",
    "# Convert the PNL dictionary to a DataFrame\n",
    "pnl_df = pd.DataFrame(list(pnl_dict.items()), columns=['Instrument', 'PNL'])\n",
    "\n",
    "# Save the PNL DataFrame to a CSV file\n",
    "pnl_df.to_csv('pnl_summary.csv', index=False)\n",
    "\n",
    "print(\"PNL summary has been saved to 'pnl_summary.csv'\")"
   ]
  }
 ],
 "metadata": {
  "kernelspec": {
   "display_name": "venv",
   "language": "python",
   "name": "python3"
  },
  "language_info": {
   "name": "python",
   "version": "3.7.3"
  }
 },
 "nbformat": 4,
 "nbformat_minor": 2
}
