{
 "cells": [
  {
   "cell_type": "code",
   "execution_count": null,
   "metadata": {},
   "outputs": [],
   "source": []
  },
  {
   "cell_type": "markdown",
   "metadata": {},
   "source": [
    "To compare the performance of your model with a momentum strategy, you can follow these steps:\n",
    "\n",
    "Generate Forecasts: Generate forecasts for the next 30 days using both your model and the momentum strategy.\n",
    "\n",
    "Calculate Performance Metrics: Calculate various performance metrics such as variance, number of correct/incorrect directions, PnL (Profit and Loss), and drawdowns.\n",
    "\n",
    "Compare Metrics: Compare the metrics of your model with those of the momentum strategy.\n",
    "\n",
    "Here is a step-by-step approach to achieve this:\n",
    "\n",
    "Step 1: Generate Forecasts\n",
    "Assume you have the forecasts from your model and the momentum strategy stored in two arrays: model_forecasts and momentum_forecasts.\n",
    "\n",
    "Step 2: Calculate Performance Metrics\n",
    "Variance\n",
    "Calculate the variance of the forecasts."
   ]
  },
  {
   "cell_type": "code",
   "execution_count": null,
   "metadata": {},
   "outputs": [],
   "source": [
    "model_variance = np.var(model_forecasts)\n",
    "momentum_variance = np.var(momentum_forecasts)"
   ]
  },
  {
   "cell_type": "markdown",
   "metadata": {},
   "source": [
    "Number of Correct/Incorrect Directions\n",
    "Calculate the number of correct and incorrect directions. Assume actual_values contains the actual rate levels."
   ]
  },
  {
   "cell_type": "code",
   "execution_count": null,
   "metadata": {},
   "outputs": [],
   "source": [
    "model_directions = np.sign(np.diff(model_forecasts))\n",
    "momentum_directions = np.sign(np.diff(momentum_forecasts))\n",
    "actual_directions = np.sign(np.diff(actual_values))\n",
    "\n",
    "model_correct_directions = np.sum(model_directions == actual_directions)\n",
    "model_incorrect_directions = np.sum(model_directions != actual_directions)\n",
    "\n",
    "momentum_correct_directions = np.sum(momentum_directions == actual_directions)\n",
    "momentum_incorrect_directions = np.sum(momentum_directions != actual_directions)"
   ]
  },
  {
   "cell_type": "markdown",
   "metadata": {},
   "source": [
    "PnL (Profit and Loss)\n",
    "Calculate the PnL for both strategies. Assume initial_investment is the initial amount invested."
   ]
  },
  {
   "cell_type": "code",
   "execution_count": null,
   "metadata": {},
   "outputs": [],
   "source": [
    "initial_investment = 100000  # Example initial investment\n",
    "\n",
    "model_pnl = initial_investment * (model_forecasts[-1] / model_forecasts[0] - 1)\n",
    "momentum_pnl = initial_investment * (momentum_forecasts[-1] / momentum_forecasts[0] - 1)"
   ]
  },
  {
   "cell_type": "markdown",
   "metadata": {},
   "source": [
    "Drawdowns\n",
    "Calculate the drawdowns for both strategies."
   ]
  },
  {
   "cell_type": "code",
   "execution_count": null,
   "metadata": {},
   "outputs": [],
   "source": [
    "def calculate_drawdowns(forecasts):\n",
    "    peak = forecasts[0]\n",
    "    drawdowns = []\n",
    "    for forecast in forecasts:\n",
    "        if forecast > peak:\n",
    "            peak = forecast\n",
    "        drawdown = (peak - forecast) / peak\n",
    "        drawdowns.append(drawdown)\n",
    "    return drawdowns\n",
    "\n",
    "model_drawdowns = calculate_drawdowns(model_forecasts)\n",
    "momentum_drawdowns = calculate_drawdowns(momentum_forecasts)\n",
    "\n",
    "max_model_drawdown = max(model_drawdowns)\n",
    "max_momentum_drawdown = max(momentum_drawdowns)"
   ]
  },
  {
   "cell_type": "markdown",
   "metadata": {},
   "source": [
    "Conclusion\n",
    "By comparing these metrics, you can demonstrate to traders how your model performs relative to the momentum strategy. Metrics such as higher correct direction counts, lower variance, higher PnL, and lower drawdowns would indicate that your model is superior to the momentum strategy."
   ]
  },
  {
   "cell_type": "markdown",
   "metadata": {},
   "source": [
    "To prove to traders that your model is better than a momentum strategy, you can use a variety of performance metrics and visualizations. Here are some additional ways to demonstrate the superiority of your model:\n",
    "\n",
    "1. Sharpe Ratio\n",
    "The Sharpe Ratio measures the risk-adjusted return of an investment strategy. A higher Sharpe Ratio indicates better risk-adjusted performance."
   ]
  },
  {
   "cell_type": "code",
   "execution_count": null,
   "metadata": {},
   "outputs": [],
   "source": [
    "def calculate_sharpe_ratio(returns, risk_free_rate=0.0):\n",
    "    excess_returns = returns - risk_free_rate\n",
    "    return np.mean(excess_returns) / np.std(excess_returns)\n",
    "\n",
    "model_returns = np.diff(model_forecasts) / model_forecasts[:-1]\n",
    "momentum_returns = np.diff(momentum_forecasts) / momentum_forecasts[:-1]\n",
    "\n",
    "model_sharpe_ratio = calculate_sharpe_ratio(model_returns)\n",
    "momentum_sharpe_ratio = calculate_sharpe_ratio(momentum_returns)\n",
    "\n",
    "print(f\"Model Sharpe Ratio: {model_sharpe_ratio}\")\n",
    "print(f\"Momentum Sharpe Ratio: {momentum_sharpe_ratio}\")"
   ]
  },
  {
   "cell_type": "markdown",
   "metadata": {},
   "source": [
    "2. Cumulative Returns\n",
    "Plot the cumulative returns of both strategies to visualize their performance over time."
   ]
  },
  {
   "cell_type": "code",
   "execution_count": null,
   "metadata": {},
   "outputs": [],
   "source": [
    "model_cumulative_returns = np.cumprod(1 + model_returns) - 1\n",
    "momentum_cumulative_returns = np.cumprod(1 + momentum_returns) - 1\n",
    "\n",
    "plt.figure(figsize=(10, 6))\n",
    "plt.plot(model_cumulative_returns, label='Model Cumulative Returns')\n",
    "plt.plot(momentum_cumulative_returns, label='Momentum Cumulative Returns')\n",
    "plt.legend()\n",
    "plt.title('Cumulative Returns')\n",
    "plt.show()"
   ]
  },
  {
   "cell_type": "markdown",
   "metadata": {},
   "source": [
    "3. Maximum Drawdown\n",
    "Maximum drawdown measures the largest peak-to-trough decline in the value of an investment. Lower drawdowns are preferable."
   ]
  },
  {
   "cell_type": "code",
   "execution_count": null,
   "metadata": {},
   "outputs": [],
   "source": [
    "def calculate_max_drawdown(returns):\n",
    "    cumulative_returns = np.cumprod(1 + returns) - 1\n",
    "    peak = np.maximum.accumulate(cumulative_returns)\n",
    "    drawdown = (cumulative_returns - peak) / peak\n",
    "    return np.min(drawdown)\n",
    "\n",
    "model_max_drawdown = calculate_max_drawdown(model_returns)\n",
    "momentum_max_drawdown = calculate_max_drawdown(momentum_returns)\n",
    "\n",
    "print(f\"Model Max Drawdown: {model_max_drawdown}\")\n",
    "print(f\"Momentum Max Drawdown: {momentum_max_drawdown}\")"
   ]
  },
  {
   "cell_type": "markdown",
   "metadata": {},
   "source": [
    "4. Hit Ratio\n",
    "The hit ratio measures the percentage of correct predictions (i.e., the direction of the forecast matches the actual direction)."
   ]
  },
  {
   "cell_type": "code",
   "execution_count": null,
   "metadata": {},
   "outputs": [],
   "source": [
    "model_hit_ratio = model_correct_directions / (model_correct_directions + model_incorrect_directions)\n",
    "momentum_hit_ratio = momentum_correct_directions / (momentum_correct_directions + momentum_incorrect_directions)\n",
    "\n",
    "print(f\"Model Hit Ratio: {model_hit_ratio}\")\n",
    "print(f\"Momentum Hit Ratio: {momentum_hit_ratio}\")"
   ]
  },
  {
   "cell_type": "markdown",
   "metadata": {},
   "source": [
    "5. Backtesting\n",
    "Perform a backtest to simulate trading using both strategies and compare the results. This involves calculating the profit and loss (PnL) over a historical period."
   ]
  },
  {
   "cell_type": "code",
   "execution_count": null,
   "metadata": {},
   "outputs": [],
   "source": [
    "def backtest_strategy(forecasts, actual_values, initial_investment=100000):\n",
    "    positions = np.sign(np.diff(forecasts))\n",
    "    returns = positions * np.diff(actual_values) / actual_values[:-1]\n",
    "    pnl = initial_investment * np.cumprod(1 + returns)\n",
    "    return pnl\n",
    "\n",
    "model_pnl = backtest_strategy(model_forecasts, actual_values)\n",
    "momentum_pnl = backtest_strategy(momentum_forecasts, actual_values)\n",
    "\n",
    "plt.figure(figsize=(10, 6))\n",
    "plt.plot(model_pnl, label='Model PnL')\n",
    "plt.plot(momentum_pnl, label='Momentum PnL')\n",
    "plt.legend()\n",
    "plt.title('Backtest PnL')\n",
    "plt.show()"
   ]
  },
  {
   "cell_type": "markdown",
   "metadata": {},
   "source": [
    "To prove to traders that the model is better than other naive models like momentum strategy or moving average for example \n",
    "we implemented a variety of performance metrics and visualizations. Here are some additional ways to demonstrate the superiority of your model:\n",
    "\n",
    "1. Sharpe Ratio\n",
    "The Sharpe Ratio measures the risk-adjusted return of an investment strategy. A higher Sharpe Ratio indicates better risk-adjusted performance.\n",
    "\n",
    "2. Cumulative Returns\n",
    "Plot the cumulative returns of both strategies to visualize their performance over time.\n",
    "\n",
    "3. Maximum Drawdown\n",
    "Maximum drawdown measures the largest peak-to-trough decline in the value of an investment. Lower drawdowns are preferable.\n",
    "\n",
    "4. Hit Ratio\n",
    "The hit ratio measures the percentage of correct predictions (i.e., the direction of the forecast matches the actual direction).\n",
    "\n",
    "5. Backtesting\n",
    "Perform a backtest to simulate trading using both strategies and compare the results. This involves calculating the profit and loss (PnL) over a historical period.\n",
    "\n",
    "6. Statistical Tests\n",
    "Perform statistical tests to compare the performance of the two strategies. For example, you can use a t-test to compare the mean returns."
   ]
  },
  {
   "cell_type": "code",
   "execution_count": null,
   "metadata": {},
   "outputs": [],
   "source": [
    "from scipy.stats import ttest_ind\n",
    "\n",
    "t_stat, p_value = ttest_ind(model_returns, momentum_returns)\n",
    "print(f\"T-statistic: {t_stat}, P-value: {p_value}\")"
   ]
  },
  {
   "cell_type": "markdown",
   "metadata": {},
   "source": [
    "When comparing trading strategies, it's important to use a variety of evaluation metrics to get a comprehensive view of their performance. Here are some common evaluation metrics:\n",
    "\n",
    "1. Sharpe Ratio\n",
    "The Sharpe Ratio measures the risk-adjusted return of an investment strategy. It is calculated as the ratio of the average excess return to the standard deviation of the excess return.\n",
    "\n"
   ]
  },
  {
   "cell_type": "code",
   "execution_count": null,
   "metadata": {},
   "outputs": [],
   "source": [
    "def calculate_sharpe_ratio(returns, risk_free_rate=0.0):\n",
    "    excess_returns = returns - risk_free_rate\n",
    "    return np.mean(excess_returns) / np.std(excess_returns)"
   ]
  },
  {
   "cell_type": "code",
   "execution_count": null,
   "metadata": {},
   "outputs": [],
   "source": [
    "print(f\"Model Variance: {model_variance}\")\n",
    "print(f\"Momentum Variance: {momentum_variance}\")\n",
    "\n",
    "print(f\"Model Correct Directions: {model_correct_directions}\")\n",
    "print(f\"Model Incorrect Directions: {model_incorrect_directions}\")\n",
    "\n",
    "print(f\"Momentum Correct Directions: {momentum_correct_directions}\")\n",
    "print(f\"Momentum Incorrect Directions: {momentum_incorrect_directions}\")\n",
    "\n",
    "print(f\"Model PnL: {model_pnl}\")\n",
    "print(f\"Momentum PnL: {momentum_pnl}\")\n",
    "\n",
    "print(f\"Max Model Drawdown: {max_model_drawdown}\")\n",
    "print(f\"Max Momentum Drawdown: {max_momentum_drawdown}\")"
   ]
  },
  {
   "cell_type": "code",
   "execution_count": null,
   "metadata": {},
   "outputs": [],
   "source": []
  },
  {
   "cell_type": "markdown",
   "metadata": {},
   "source": [
    "When comparing trading strategies, it's important to use a variety of evaluation metrics to get a comprehensive view of their performance. Here are some common evaluation metrics:\n",
    "\n",
    "1. Sharpe Ratio\n",
    "The Sharpe Ratio measures the risk-adjusted return of an investment strategy. It is calculated as the ratio of the average excess return to the standard deviation of the excess return.\n",
    "\n",
    "2. Sortino Ratio\n",
    "The Sortino Ratio is a variation of the Sharpe Ratio that only considers downside risk. It is calculated as the ratio of the average excess return to the downside deviation.\n",
    "\n",
    "3. Maximum Drawdown\n",
    "Maximum drawdown measures the largest peak-to-trough decline in the value of an investment. It is an important metric for understanding the risk of a strategy.\n",
    "\n",
    "4. Cumulative Returns\n",
    "Cumulative returns measure the total return of an investment over a period of time. It is useful for visualizing the performance of a strategy.\n",
    "\n",
    "5. Hit Ratio\n",
    "The hit ratio measures the percentage of correct predictions (i.e., the direction of the forecast matches the actual direction).\n",
    "\n",
    "6. Profit and Loss (PnL)\n",
    "Profit and Loss measures the total profit or loss generated by a strategy over a period of time.\n",
    "\n",
    "7. Alpha and Beta\n",
    "Alpha measures the excess return of a strategy relative to a benchmark, while Beta measures the sensitivity of the strategy's returns to the benchmark's returns.\n",
    "\n",
    "8. Information Ratio\n",
    "The Information Ratio measures the risk-adjusted return of a strategy relative to a benchmark. It is calculated as the ratio of the average excess return to the tracking error.\n",
    "\n",
    "9. Volatility\n",
    "Volatility measures the standard deviation of returns. It is an important metric for understanding the risk of a strategy.\n",
    "\n",
    "10. Calmar Ratio\n",
    "The Calmar Ratio measures the risk-adjusted return of a strategy, taking into account the maximum drawdown. It is calculated as the ratio of the average annual return to the maximum drawdown.\n",
    "\n",
    "Conclusion\n",
    "By using these evaluation metrics, you can provide a comprehensive comparison of different trading strategies. This will help traders understand the advantages and disadvantages of each strategy and make informed decisions."
   ]
  },
  {
   "cell_type": "code",
   "execution_count": null,
   "metadata": {},
   "outputs": [],
   "source": [
    "def calculate_sharpe_ratio(returns, risk_free_rate=0.0):\n",
    "    excess_returns = returns - risk_free_rate\n",
    "    return np.mean(excess_returns) / np.std(excess_returns)"
   ]
  },
  {
   "cell_type": "code",
   "execution_count": null,
   "metadata": {},
   "outputs": [],
   "source": [
    "def calculate_sortino_ratio(returns, risk_free_rate=0.0):\n",
    "    excess_returns = returns - risk_free_rate\n",
    "    downside_deviation = np.std(excess_returns[excess_returns < 0])\n",
    "    return np.mean(excess_returns) / downside_deviation"
   ]
  },
  {
   "cell_type": "code",
   "execution_count": null,
   "metadata": {},
   "outputs": [],
   "source": [
    "def calculate_max_drawdown(returns):\n",
    "    cumulative_returns = np.cumprod(1 + returns) - 1\n",
    "    peak = np.maximum.accumulate(cumulative_returns)\n",
    "    drawdown = (cumulative_returns - peak) / peak\n",
    "    return np.min(drawdown)"
   ]
  },
  {
   "cell_type": "code",
   "execution_count": null,
   "metadata": {},
   "outputs": [],
   "source": [
    "def calculate_cumulative_returns(returns):\n",
    "    return np.cumprod(1 + returns) - 1"
   ]
  },
  {
   "cell_type": "code",
   "execution_count": null,
   "metadata": {},
   "outputs": [],
   "source": [
    "def calculate_hit_ratio(predictions, actuals):\n",
    "    directions = np.sign(np.diff(predictions))\n",
    "    actual_directions = np.sign(np.diff(actuals))\n",
    "    correct_directions = np.sum(directions == actual_directions)\n",
    "    return correct_directions / len(directions)"
   ]
  },
  {
   "cell_type": "code",
   "execution_count": null,
   "metadata": {},
   "outputs": [],
   "source": [
    "def calculate_pnl(forecasts, actual_values, initial_investment=100000):\n",
    "    positions = np.sign(np.diff(forecasts))\n",
    "    returns = positions * np.diff(actual_values) / actual_values[:-1]\n",
    "    pnl = initial_investment * np.cumprod(1 + returns)\n",
    "    return pnl"
   ]
  },
  {
   "cell_type": "code",
   "execution_count": null,
   "metadata": {},
   "outputs": [],
   "source": [
    "import statsmodels.api as sm\n",
    "\n",
    "def calculate_alpha_beta(returns, benchmark_returns):\n",
    "    X = sm.add_constant(benchmark_returns)\n",
    "    model = sm.OLS(returns, X).fit()\n",
    "    alpha, beta = model.params\n",
    "    return alpha, beta"
   ]
  },
  {
   "cell_type": "code",
   "execution_count": null,
   "metadata": {},
   "outputs": [],
   "source": [
    "def calculate_information_ratio(returns, benchmark_returns):\n",
    "    excess_returns = returns - benchmark_returns\n",
    "    tracking_error = np.std(excess_returns)\n",
    "    return np.mean(excess_returns) / tracking_error"
   ]
  },
  {
   "cell_type": "code",
   "execution_count": null,
   "metadata": {},
   "outputs": [],
   "source": [
    "def calculate_volatility(returns):\n",
    "    return np.std(returns)"
   ]
  },
  {
   "cell_type": "code",
   "execution_count": null,
   "metadata": {},
   "outputs": [],
   "source": [
    "def calculate_calmar_ratio(returns):\n",
    "    annual_return = np.mean(returns) * 252  # Assuming daily returns\n",
    "    max_drawdown = calculate_max_drawdown(returns)\n",
    "    return annual_return / abs(max_drawdown)"
   ]
  }
 ],
 "metadata": {
  "kernelspec": {
   "display_name": "Python 3",
   "language": "python",
   "name": "python3"
  },
  "language_info": {
   "name": "python",
   "version": "3.11.6"
  }
 },
 "nbformat": 4,
 "nbformat_minor": 2
}
