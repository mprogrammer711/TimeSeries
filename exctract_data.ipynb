{
 "cells": [
  {
   "cell_type": "code",
   "execution_count": null,
   "metadata": {},
   "outputs": [],
   "source": [
    "import pandas as pd\n",
    "import os\n",
    "\n",
    "# Define parameters\n",
    "file_path = 'time_series_data.csv'\n",
    "target = ['rate_level_1', 'rate_level_2']\n",
    "context_features = ['stock_price', 'fx_rate', 'commodity_price']\n",
    "features = target + context_features\n",
    "n_timesteps = 30  # Last 30 timesteps\n",
    "\n",
    "# Load the data\n",
    "df = pd.read_csv(file_path)\n",
    "\n",
    "# Ensure the data is sorted by date\n",
    "df['date'] = pd.to_datetime(df['date'])\n",
    "df = df.sort_values(by='date')\n",
    "\n",
    "# Create directories to save the files\n",
    "os.makedirs('past_data_files', exist_ok=True)\n",
    "os.makedirs('context_data_files', exist_ok=True)\n",
    "\n",
    "# Iterate over the last 30 days\n",
    "for i in range(1, n_timesteps + 1):\n",
    "    # Extract all past data up to the current day\n",
    "    past_data = df.iloc[:-i]\n",
    "    \n",
    "    # Extract the context data for the following day, including the date column\n",
    "    context_following_day = df[['date'] + context_features].iloc[-i]\n",
    "    \n",
    "    # Save the past data to a new CSV file\n",
    "    past_data_file = f'past_data_files/past_data_up_to_day_{i}.csv'\n",
    "    past_data.to_csv(past_data_file, index=False)\n",
    "    \n",
    "    # Save the context data for the following day to a new CSV file\n",
    "    context_file = f'context_data_files/context_following_day_{i}.csv'\n",
    "    context_following_day.to_frame().T.to_csv(context_file, index=False)\n",
    "\n",
    "print(\"Files have been saved in 'past_data_files' and 'context_data_files' directories.\")"
   ]
  }
 ],
 "metadata": {
  "kernelspec": {
   "display_name": "venv",
   "language": "python",
   "name": "python3"
  },
  "language_info": {
   "name": "python",
   "version": "3.7.3"
  }
 },
 "nbformat": 4,
 "nbformat_minor": 2
}
