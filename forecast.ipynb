{
 "cells": [
  {
   "cell_type": "code",
   "execution_count": null,
   "metadata": {
    "vscode": {
     "languageId": "plaintext"
    }
   },
   "outputs": [],
   "source": [
    "# Forecast the last timestep\n",
    "def forecast_last_timestep(model, last_sequence, current_temporal_features, scaler_target):\n",
    "    model.eval()\n",
    "    with torch.no_grad():\n",
    "        last_sequence_tensor = torch.tensor(last_sequence, dtype=torch.float32).unsqueeze(0)  # Add batch dimension\n",
    "        current_temporal_features_tensor = torch.tensor(current_temporal_features, dtype=torch.float32).unsqueeze(0).unsqueeze(1)  # Add batch and sequence dimensions\n",
    "        prediction, _ = model(last_sequence_tensor, current_temporal_features_tensor)\n",
    "        prediction_original_scale = scaler_target.inverse_transform(prediction.cpu().numpy())\n",
    "    return prediction_original_scale\n",
    "\n",
    "# Example usage\n",
    "last_sequence = df[features].values[-n_timesteps_input:]  # Last sequence of features\n",
    "current_temporal_features = df[current_temporal_features].values[-1]  # Current temporal features\n",
    "\n",
    "forecasted_value = forecast_last_timestep(model, last_sequence, current_temporal_features, scaler_target)\n",
    "print(\"Forecasted value for the last timestep:\", forecasted_value)"
   ]
  }
 ],
 "metadata": {
  "language_info": {
   "name": "python"
  }
 },
 "nbformat": 4,
 "nbformat_minor": 2
}
